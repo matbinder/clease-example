{
 "cells": [
  {
   "cell_type": "code",
   "execution_count": 1,
   "metadata": {},
   "outputs": [],
   "source": [
    "from clease.calculator import attach_calculator"
   ]
  },
  {
   "cell_type": "code",
   "execution_count": 2,
   "metadata": {},
   "outputs": [],
   "source": [
    "from clease import Concentration, CEBulk, NewStructures"
   ]
  },
  {
   "cell_type": "code",
   "execution_count": 3,
   "metadata": {},
   "outputs": [],
   "source": [
    "from clease.montecarlo import Montecarlo"
   ]
  },
  {
   "cell_type": "code",
   "execution_count": 4,
   "metadata": {},
   "outputs": [],
   "source": [
    "from clease.tools import update_db"
   ]
  },
  {
   "cell_type": "code",
   "execution_count": 5,
   "metadata": {},
   "outputs": [],
   "source": [
    "from ase.calculators.emt import EMT"
   ]
  },
  {
   "cell_type": "code",
   "execution_count": 6,
   "metadata": {},
   "outputs": [],
   "source": [
    "from ase.db import connect"
   ]
  },
  {
   "cell_type": "markdown",
   "metadata": {},
   "source": [
    "# Select concentration"
   ]
  },
  {
   "cell_type": "code",
   "execution_count": 7,
   "metadata": {},
   "outputs": [],
   "source": [
    "conc = Concentration(basis_elements=[['Au', 'Cu']])\n",
    "conc.set_conc_ranges(ranges=[[(0, 0.5), (0.5, 1)]])"
   ]
  },
  {
   "cell_type": "markdown",
   "metadata": {},
   "source": [
    "# Setup cluster expansion"
   ]
  },
  {
   "cell_type": "code",
   "execution_count": 8,
   "metadata": {},
   "outputs": [
    {
     "name": "stdout",
     "output_type": "stream",
     "text": [
      "Generating cluster data for template with size: 1,0,0x0,1,0x0,0,1. (1 of 9)\n",
      "Generating cluster data for template with size: 1,0,0x0,1,0x0,0,2. (2 of 9)\n",
      "Generating cluster data for template with size: 2,0,0x0,2,0x0,0,2. (3 of 9)\n",
      "Generating cluster data for template with size: 2,0,0x0,2,0x0,0,3. (4 of 9)\n",
      "Generating cluster data for template with size: 2,0,0x0,2,0x0,0,4. (5 of 9)\n",
      "Generating cluster data for template with size: 2,0,0x0,2,0x0,0,5. (6 of 9)\n",
      "Generating cluster data for template with size: 2,0,0x0,3,0x0,0,3. (7 of 9)\n",
      "Generating cluster data for template with size: 2,0,0x0,3,0x0,0,4. (8 of 9)\n",
      "Generating cluster data for template with size: 3,0,0x0,3,0x0,0,3. (9 of 9)\n"
     ]
    }
   ],
   "source": [
    "setting = CEBulk(\n",
    "    crystalstructure='fcc',\n",
    "    a=3.8,\n",
    "    supercell_factor=27,\n",
    "    concentration=conc,\n",
    "    db_name=\"aucu_bulk.db\",\n",
    "    max_cluster_size=4,\n",
    "    max_cluster_dia=[6.0, 5.0, 5.0],\n",
    "    basis_function='polynomial'\n",
    ")"
   ]
  },
  {
   "cell_type": "markdown",
   "metadata": {},
   "source": [
    "# Generate structures "
   ]
  },
  {
   "cell_type": "code",
   "execution_count": 9,
   "metadata": {},
   "outputs": [],
   "source": [
    "ns = NewStructures(\n",
    "    setting=setting, \n",
    "    generation_number=0, \n",
    "    struct_per_gen=10\n",
    ")"
   ]
  },
  {
   "cell_type": "code",
   "execution_count": 10,
   "metadata": {},
   "outputs": [
    {
     "name": "stdout",
     "output_type": "stream",
     "text": [
      "Generating one structure per concentration where the number of an element is at max/min\n",
      "Generating 9 random structures (struct_per_gen=10, 1 present)\n",
      "Generated 1 random structures\n",
      "Generated 2 random structures\n",
      "Generated 3 random structures\n",
      "Generated 4 random structures\n",
      "Generated 5 random structures\n",
      "Generated 6 random structures\n",
      "Generated 7 random structures\n",
      "Generated 8 random structures\n",
      "Generated 9 random structures\n"
     ]
    }
   ],
   "source": [
    "ns.generate_initial_pool()"
   ]
  },
  {
   "cell_type": "code",
   "execution_count": 11,
   "metadata": {},
   "outputs": [],
   "source": [
    "atoms = connect('aucu_bulk.db').get(id=11).toatoms()"
   ]
  },
  {
   "cell_type": "code",
   "execution_count": 12,
   "metadata": {},
   "outputs": [
    {
     "name": "stdout",
     "output_type": "stream",
     "text": [
      "There are 10 structures in generation 0 in DB and struct_per_gen = 10. No more structures generated.\n"
     ]
    }
   ],
   "source": [
    "ns.generate_random_structures(atoms)"
   ]
  },
  {
   "cell_type": "markdown",
   "metadata": {},
   "source": [
    "# Calculate energies using EMT"
   ]
  },
  {
   "cell_type": "code",
   "execution_count": 13,
   "metadata": {},
   "outputs": [],
   "source": [
    "calc = EMT()"
   ]
  },
  {
   "cell_type": "code",
   "execution_count": 14,
   "metadata": {},
   "outputs": [],
   "source": [
    "db_name = \"aucu_bulk.db\"\n",
    "db = connect(db_name)"
   ]
  },
  {
   "cell_type": "code",
   "execution_count": 15,
   "metadata": {},
   "outputs": [],
   "source": [
    "for row in db.select(converged=False):\n",
    "    atoms = row.toatoms()\n",
    "    atoms.set_calculator(calc)\n",
    "    atoms.get_potential_energy()\n",
    "    update_db(uid_initial=row.id, final_struct=atoms, db_name=db_name)"
   ]
  },
  {
   "cell_type": "markdown",
   "metadata": {},
   "source": [
    "# Training / Fitting "
   ]
  },
  {
   "cell_type": "code",
   "execution_count": 16,
   "metadata": {},
   "outputs": [],
   "source": [
    "setting = CEBulk(\n",
    "    crystalstructure='fcc',\n",
    "    a=3.8,\n",
    "    supercell_factor=27,\n",
    "    concentration=conc,\n",
    "    db_name=\"aucu_bulk.db\",\n",
    "    max_cluster_size=4,\n",
    "    max_cluster_dia=[6.0, 5.0, 5.0],\n",
    "    basis_function='polynomial'\n",
    ")"
   ]
  },
  {
   "cell_type": "markdown",
   "metadata": {},
   "source": [
    "# Monte Carlo"
   ]
  },
  {
   "cell_type": "code",
   "execution_count": 17,
   "metadata": {},
   "outputs": [],
   "source": [
    "eci = {'c0': -1.0, 'c1_0': 0.1, 'c2_d0000_0_00': -0.2}"
   ]
  },
  {
   "cell_type": "code",
   "execution_count": 18,
   "metadata": {},
   "outputs": [
    {
     "name": "stdout",
     "output_type": "stream",
     "text": [
      "Template that matches the size of passed atoms not found. Generating...\n"
     ]
    }
   ],
   "source": [
    "atoms = setting.atoms.copy()*(5, 5, 5)\n",
    "atoms = attach_calculator(setting, atoms=atoms, eci=eci)"
   ]
  },
  {
   "cell_type": "code",
   "execution_count": 19,
   "metadata": {},
   "outputs": [],
   "source": [
    "atoms[0].symbol = 'Cu'\n",
    "atoms[1].symbol = 'Cu'\n",
    "atoms[2].symbol = 'Cu'"
   ]
  },
  {
   "cell_type": "code",
   "execution_count": 20,
   "metadata": {},
   "outputs": [
    {
     "name": "stdout",
     "output_type": "stream",
     "text": [
      "Probing energy bias using 250 MC steps...\n",
      "Energy after probing: -136.1\n",
      "Bias subtracted from empty cluster...\n",
      "Reached maximum number of steps (1000 mc steps)\n",
      "Empty cluster ECI reset to original value...\n"
     ]
    }
   ],
   "source": [
    "T = 500\n",
    "mc = Montecarlo(atoms, T)\n",
    "mc.run(steps=1000)"
   ]
  },
  {
   "cell_type": "code",
   "execution_count": 21,
   "metadata": {},
   "outputs": [],
   "source": [
    "thermo = mc.get_thermodynamic_quantities()"
   ]
  },
  {
   "cell_type": "code",
   "execution_count": 22,
   "metadata": {},
   "outputs": [
    {
     "data": {
      "text/plain": [
       "{'energy': -136.07133333333334,\n",
       " 'heat_capacity': 0.0002663573054610469,\n",
       " 'energy_var': 0.005738222222222279,\n",
       " 'temperature': 500,\n",
       " 'Cu_conc': 0.024,\n",
       " 'Au_conc': 0.976,\n",
       " 'timestamp': '2019-10-17 14:27:32',\n",
       " 'python_version': '3.7.3'}"
      ]
     },
     "execution_count": 22,
     "metadata": {},
     "output_type": "execute_result"
    }
   ],
   "source": [
    "thermo"
   ]
  },
  {
   "cell_type": "code",
   "execution_count": null,
   "metadata": {},
   "outputs": [],
   "source": []
  }
 ],
 "metadata": {
  "kernelspec": {
   "display_name": "Python 3",
   "language": "python",
   "name": "python3"
  },
  "language_info": {
   "codemirror_mode": {
    "name": "ipython",
    "version": 3
   },
   "file_extension": ".py",
   "mimetype": "text/x-python",
   "name": "python",
   "nbconvert_exporter": "python",
   "pygments_lexer": "ipython3",
   "version": "3.7.3"
  }
 },
 "nbformat": 4,
 "nbformat_minor": 2
}
